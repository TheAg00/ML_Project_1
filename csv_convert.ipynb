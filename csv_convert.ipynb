{
 "cells": [
  {
   "cell_type": "code",
   "execution_count": 16,
   "id": "0c7e04e5-4217-45c7-9e47-58f7e43d134f",
   "metadata": {},
   "outputs": [],
   "source": [
    "import pandas as pd\n",
    "import csv\n",
    "import random"
   ]
  },
  {
   "cell_type": "code",
   "execution_count": 17,
   "id": "363fa089-9992-469b-80a6-585437b92dae",
   "metadata": {},
   "outputs": [],
   "source": [
    "df = pd.read_csv('./houses_Madrid.csv')"
   ]
  },
  {
   "cell_type": "code",
   "execution_count": 45,
   "id": "904a81cf-e507-4863-af26-a040d8b1c75e",
   "metadata": {},
   "outputs": [
    {
     "data": {
      "text/plain": [
       "Index(['id', 'area', 'm2', 'n_rooms', 'address', 'buy_price_2023',\n",
       "       'buy_price_2024', 'built_year', 'has_parking', 'buy_price_2022',\n",
       "       'buy_price_2021'],\n",
       "      dtype='object')"
      ]
     },
     "execution_count": 45,
     "metadata": {},
     "output_type": "execute_result"
    }
   ],
   "source": [
    "df.columns"
   ]
  },
  {
   "cell_type": "code",
   "execution_count": 46,
   "id": "ab89c8a7-956c-4ae3-abc5-2ea51f52254b",
   "metadata": {},
   "outputs": [
    {
     "data": {
      "text/html": [
       "<div>\n",
       "<style scoped>\n",
       "    .dataframe tbody tr th:only-of-type {\n",
       "        vertical-align: middle;\n",
       "    }\n",
       "\n",
       "    .dataframe tbody tr th {\n",
       "        vertical-align: top;\n",
       "    }\n",
       "\n",
       "    .dataframe thead th {\n",
       "        text-align: right;\n",
       "    }\n",
       "</style>\n",
       "<table border=\"1\" class=\"dataframe\">\n",
       "  <thead>\n",
       "    <tr style=\"text-align: right;\">\n",
       "      <th></th>\n",
       "      <th>id</th>\n",
       "      <th>area</th>\n",
       "      <th>m2</th>\n",
       "      <th>n_rooms</th>\n",
       "      <th>address</th>\n",
       "      <th>buy_price_2023</th>\n",
       "      <th>buy_price_2024</th>\n",
       "      <th>built_year</th>\n",
       "      <th>has_parking</th>\n",
       "      <th>buy_price_2022</th>\n",
       "      <th>buy_price_2021</th>\n",
       "    </tr>\n",
       "  </thead>\n",
       "  <tbody>\n",
       "    <tr>\n",
       "      <th>0</th>\n",
       "      <td>0</td>\n",
       "      <td>San Cristóbal, Madrid</td>\n",
       "      <td>64</td>\n",
       "      <td>2</td>\n",
       "      <td>Piso en venta en calle de Godella, 64</td>\n",
       "      <td>84770</td>\n",
       "      <td>85000</td>\n",
       "      <td>1960.0</td>\n",
       "      <td>False</td>\n",
       "      <td>81340</td>\n",
       "      <td>72230</td>\n",
       "    </tr>\n",
       "    <tr>\n",
       "      <th>1</th>\n",
       "      <td>1</td>\n",
       "      <td>Los Ángeles, Madrid</td>\n",
       "      <td>70</td>\n",
       "      <td>3</td>\n",
       "      <td>Piso en venta en calle de la del Manojo de Rosas</td>\n",
       "      <td>120700</td>\n",
       "      <td>129900</td>\n",
       "      <td>NaN</td>\n",
       "      <td>False</td>\n",
       "      <td>120620</td>\n",
       "      <td>113330</td>\n",
       "    </tr>\n",
       "    <tr>\n",
       "      <th>2</th>\n",
       "      <td>2</td>\n",
       "      <td>San Andrés, Madrid</td>\n",
       "      <td>94</td>\n",
       "      <td>2</td>\n",
       "      <td>Piso en venta en calle del Talco, 68</td>\n",
       "      <td>143807</td>\n",
       "      <td>144247</td>\n",
       "      <td>NaN</td>\n",
       "      <td>False</td>\n",
       "      <td>142077</td>\n",
       "      <td>139817</td>\n",
       "    </tr>\n",
       "    <tr>\n",
       "      <th>3</th>\n",
       "      <td>3</td>\n",
       "      <td>San Andrés, Madrid</td>\n",
       "      <td>64</td>\n",
       "      <td>2</td>\n",
       "      <td>Piso en venta en calle Pedro Jiménez</td>\n",
       "      <td>105900</td>\n",
       "      <td>109900</td>\n",
       "      <td>1955.0</td>\n",
       "      <td>False</td>\n",
       "      <td>104250</td>\n",
       "      <td>103580</td>\n",
       "    </tr>\n",
       "    <tr>\n",
       "      <th>4</th>\n",
       "      <td>4</td>\n",
       "      <td>Los Rosales, Madrid</td>\n",
       "      <td>108</td>\n",
       "      <td>2</td>\n",
       "      <td>Piso en venta en carretera de Villaverde a Val...</td>\n",
       "      <td>258140</td>\n",
       "      <td>260000</td>\n",
       "      <td>2003.0</td>\n",
       "      <td>True</td>\n",
       "      <td>249500</td>\n",
       "      <td>241870</td>\n",
       "    </tr>\n",
       "  </tbody>\n",
       "</table>\n",
       "</div>"
      ],
      "text/plain": [
       "   id                   area   m2  n_rooms  \\\n",
       "0   0  San Cristóbal, Madrid   64        2   \n",
       "1   1    Los Ángeles, Madrid   70        3   \n",
       "2   2     San Andrés, Madrid   94        2   \n",
       "3   3     San Andrés, Madrid   64        2   \n",
       "4   4    Los Rosales, Madrid  108        2   \n",
       "\n",
       "                                             address  buy_price_2023  \\\n",
       "0              Piso en venta en calle de Godella, 64           84770   \n",
       "1   Piso en venta en calle de la del Manojo de Rosas          120700   \n",
       "2               Piso en venta en calle del Talco, 68          143807   \n",
       "3               Piso en venta en calle Pedro Jiménez          105900   \n",
       "4  Piso en venta en carretera de Villaverde a Val...          258140   \n",
       "\n",
       "   buy_price_2024  built_year  has_parking  buy_price_2022  buy_price_2021  \n",
       "0           85000      1960.0        False           81340           72230  \n",
       "1          129900         NaN        False          120620          113330  \n",
       "2          144247         NaN        False          142077          139817  \n",
       "3          109900      1955.0        False          104250          103580  \n",
       "4          260000      2003.0         True          249500          241870  "
      ]
     },
     "execution_count": 46,
     "metadata": {},
     "output_type": "execute_result"
    }
   ],
   "source": [
    "df.head()"
   ]
  },
  {
   "cell_type": "code",
   "execution_count": 39,
   "id": "7884cdba-98c3-4b34-a230-5844e270f1d4",
   "metadata": {},
   "outputs": [],
   "source": [
    "prices2022 = df[\"buy_price_2022\"].tolist()"
   ]
  },
  {
   "cell_type": "code",
   "execution_count": 40,
   "id": "b958e643-4f61-4a44-aff9-0870f8815d1c",
   "metadata": {},
   "outputs": [],
   "source": [
    "pricesCount = len(prices2022)"
   ]
  },
  {
   "cell_type": "code",
   "execution_count": 41,
   "id": "eb9d4f04-6c4f-4758-b530-ef7e6ef73e8c",
   "metadata": {},
   "outputs": [
    {
     "data": {
      "text/plain": [
       "100"
      ]
     },
     "execution_count": 41,
     "metadata": {},
     "output_type": "execute_result"
    }
   ],
   "source": [
    "pricesCount"
   ]
  },
  {
   "cell_type": "code",
   "execution_count": 42,
   "id": "387264ed-41b1-4ba0-a75a-0a374cc345c9",
   "metadata": {},
   "outputs": [],
   "source": [
    "prices2021 = list()\n",
    "\n",
    "for price in prices2022:\n",
    "    minus = random.randint(1, 1000) * 10\n",
    "    oldPrice = price - minus\n",
    "    prices2021.append(oldPrice)"
   ]
  },
  {
   "cell_type": "code",
   "execution_count": 43,
   "id": "7d048381-e3e9-4a45-ab61-15a35a0e92ab",
   "metadata": {},
   "outputs": [
    {
     "data": {
      "text/plain": [
       "100"
      ]
     },
     "execution_count": 43,
     "metadata": {},
     "output_type": "execute_result"
    }
   ],
   "source": [
    "len(prices2021)"
   ]
  },
  {
   "cell_type": "code",
   "execution_count": 44,
   "id": "753632a6-d328-49fe-a49c-0321f3310be9",
   "metadata": {},
   "outputs": [],
   "source": [
    "df[\"buy_price_2021\"] = prices2021"
   ]
  },
  {
   "cell_type": "code",
   "execution_count": 47,
   "id": "38ca478e-3952-424a-ae7a-c2e3c4956e1a",
   "metadata": {},
   "outputs": [],
   "source": [
    "df.to_csv(\"houses_Madrid.csv\")"
   ]
  },
  {
   "cell_type": "code",
   "execution_count": 16,
   "id": "1bd05f81-9735-4c57-8696-298f7c9a73a2",
   "metadata": {},
   "outputs": [],
   "source": [
    "madridData = data.iloc[0:100]"
   ]
  },
  {
   "cell_type": "code",
   "execution_count": 17,
   "id": "a913139c-3efa-4419-ae7d-4f3c0cc63cdb",
   "metadata": {},
   "outputs": [],
   "source": [
    "madridData.to_csv(\"Madrid_real_estate_prices.csv\")"
   ]
  },
  {
   "cell_type": "code",
   "execution_count": null,
   "id": "00d9fc33-1309-44bc-96ee-a5158b602119",
   "metadata": {},
   "outputs": [],
   "source": []
  }
 ],
 "metadata": {
  "kernelspec": {
   "display_name": "Python 3 (ipykernel)",
   "language": "python",
   "name": "python3"
  },
  "language_info": {
   "codemirror_mode": {
    "name": "ipython",
    "version": 3
   },
   "file_extension": ".py",
   "mimetype": "text/x-python",
   "name": "python",
   "nbconvert_exporter": "python",
   "pygments_lexer": "ipython3",
   "version": "3.10.12"
  }
 },
 "nbformat": 4,
 "nbformat_minor": 5
}
